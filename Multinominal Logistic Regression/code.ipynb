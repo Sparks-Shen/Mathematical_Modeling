{
 "cells": [
  {
   "cell_type": "code",
   "execution_count": 7,
   "id": "270c41f5-891d-4aa0-9e5f-50cda1b056c6",
   "metadata": {},
   "outputs": [],
   "source": [
    "import pandas as pd\n",
    "from sklearn.linear_model import LogisticRegression\n",
    "from sklearn.preprocessing import LabelEncoder\n",
    "\n",
    "# 加载原始数据集和训练模型（这部分代码假设已经执行过一次，并且模型和编码器已经保存）\n",
    "file_path = \"C:/Users/沈德存/Desktop/Mathematical Modeling/Multinomial Logistic回归/Iris Dataset.csv\"\n",
    "iris_data = pd.read_csv(file_path)\n",
    "X = iris_data.drop('species', axis=1)\n",
    "y = iris_data['species']\n",
    "label_encoder = LabelEncoder()\n",
    "y_encoded = label_encoder.fit_transform(y)\n",
    "logistic_regression_model = LogisticRegression(max_iter=1000)\n",
    "logistic_regression_model.fit(X, y_encoded)\n",
    "\n",
    "# 保存模型和编码器，以便之后使用（在实际应用中，你可能需要使用joblib或pickle库来序列化保存模型和编码器）\n",
    "# import joblib\n",
    "# joblib.dump(logistic_regression_model, 'logistic_regression_model.pkl')\n",
    "# joblib.dump(label_encoder, 'label_encoder.pkl')\n",
    "\n",
    "# 加载新的Excel文件进行预测\n",
    "new_data_file_path = \"C:/Users/沈德存/Desktop/工作簿1.xlsx\"\n",
    "new_data = pd.read_excel(new_data_file_path)\n",
    "\n",
    "# 使用训练好的模型进行预测\n",
    "predictions = logistic_regression_model.predict(new_data)\n",
    "predicted_species = label_encoder.inverse_transform(predictions)\n",
    "\n",
    "# 将预测结果添加为新列\n",
    "new_data['species'] = predicted_species\n",
    "\n",
    "# 保存带有预测结果的新Excel文件\n",
    "new_data.to_excel(\"new.xlsx\", index=False)\n"
   ]
  },
  {
   "cell_type": "code",
   "execution_count": null,
   "id": "61df6134-7dfd-4ace-bee2-78c3fcc88b79",
   "metadata": {},
   "outputs": [],
   "source": []
  }
 ],
 "metadata": {
  "kernelspec": {
   "display_name": "Python 3 (ipykernel)",
   "language": "python",
   "name": "python3"
  },
  "language_info": {
   "codemirror_mode": {
    "name": "ipython",
    "version": 3
   },
   "file_extension": ".py",
   "mimetype": "text/x-python",
   "name": "python",
   "nbconvert_exporter": "python",
   "pygments_lexer": "ipython3",
   "version": "3.12.4"
  }
 },
 "nbformat": 4,
 "nbformat_minor": 5
}
